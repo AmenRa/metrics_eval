{
 "cells": [
  {
   "cell_type": "markdown",
   "metadata": {
    "toc": true
   },
   "source": [
    "<h1>Table of Contents<span class=\"tocSkip\"></span></h1>\n",
    "<div class=\"toc\"><ul class=\"toc-item\"></ul></div>"
   ]
  },
  {
   "cell_type": "code",
   "execution_count": 1,
   "metadata": {
    "ExecuteTime": {
     "end_time": "2020-06-02T23:00:13.519741Z",
     "start_time": "2020-06-02T23:00:13.517506Z"
    }
   },
   "outputs": [],
   "source": [
    "# Make sure to have pytrec_eval installed and working"
   ]
  },
  {
   "cell_type": "code",
   "execution_count": 2,
   "metadata": {
    "ExecuteTime": {
     "end_time": "2020-06-02T23:00:14.162534Z",
     "start_time": "2020-06-02T23:00:13.789770Z"
    }
   },
   "outputs": [],
   "source": [
    "import pytrec_eval\n",
    "from metrics_eval import utils\n",
    "from metrics_eval import ranking_metrics\n",
    "import numpy as np\n",
    "import random\n",
    "from math import isclose\n",
    "from time import time"
   ]
  },
  {
   "cell_type": "code",
   "execution_count": 3,
   "metadata": {
    "ExecuteTime": {
     "end_time": "2020-06-02T23:00:14.167784Z",
     "start_time": "2020-06-02T23:00:14.164357Z"
    }
   },
   "outputs": [],
   "source": [
    "# Wrapper for pytrec_eval cut functions\n",
    "def run_trec_function_cut(y_true, y_pred, metric, metric_k):\n",
    "    evaluator = pytrec_eval.RelevanceEvaluator(y_true, {metric})\n",
    "    results = evaluator.evaluate(y_pred)\n",
    "    scores = [results[k][metric_k] for k in results.keys()]\n",
    "    return np.sum(scores) / len(scores)"
   ]
  },
  {
   "cell_type": "code",
   "execution_count": 4,
   "metadata": {
    "ExecuteTime": {
     "end_time": "2020-06-02T23:00:14.618445Z",
     "start_time": "2020-06-02T23:00:14.611314Z"
    }
   },
   "outputs": [],
   "source": [
    "# Dataset generators\n",
    "def convert_to_binary(y_true):\n",
    "    try:\n",
    "        return utils.to_typed_list([y[:, 0] for y in y_true])\n",
    "    except:\n",
    "        return [y[:, 0] for y in y_true]\n",
    "\n",
    "\n",
    "def generate_y_true_dict(query_count, max_relevant_per_query):\n",
    "    y_true = {}\n",
    "    for i in range(query_count):\n",
    "        y_t = {}\n",
    "        for j in range(random.choice(range(1, max_relevant_per_query))):\n",
    "\n",
    "            if j == 0:\n",
    "                y_t[\"d{j}\".format(j=j)] = 1\n",
    "            else:\n",
    "                y_t[\"d{j}\".format(j=j)] = random.choice([0, 1])\n",
    "\n",
    "        y_true[\"q{i}\".format(i=i)] = y_t\n",
    "\n",
    "    return y_true\n",
    "\n",
    "\n",
    "def generate_y_pred_dict(query_count, result_count):\n",
    "    y_pred = {}\n",
    "    for i in range(query_count):\n",
    "        y_p = {}\n",
    "        for j in range(result_count):\n",
    "            y_p[\"d{j}\".format(j=j)] = random.uniform(0.0, 1.0)\n",
    "\n",
    "        y_pred[\"q{i}\".format(i=i)] = y_p\n",
    "\n",
    "    return y_pred"
   ]
  },
  {
   "cell_type": "code",
   "execution_count": 5,
   "metadata": {
    "ExecuteTime": {
     "end_time": "2020-06-02T23:00:15.531612Z",
     "start_time": "2020-06-02T23:00:15.526531Z"
    }
   },
   "outputs": [],
   "source": [
    "def compare_ndcg(trec_eval_y_true, trec_eval_y_pred, metrics_eval_y_true, metrics_eval_y_pred, k):\n",
    "    # pytrec_eval ------------------------------------------------------------\n",
    "    start_time = time()\n",
    "    trec_score = run_trec_function_cut(\n",
    "        trec_eval_y_true, trec_eval_y_pred, \"ndcg_cut\", \"ndcg_cut_\" + str(k)\n",
    "    )\n",
    "    expired_time = time() - start_time\n",
    "    print(\"pytrec_eval took: {expired_time}\".format(expired_time=expired_time))\n",
    "    \n",
    "    # metrics_eval ------------------------------------------------------------\n",
    "    # run metrics_eval once for compilation\n",
    "    ranking_metrics.ndcg(metrics_eval_y_true, metrics_eval_y_pred, k, None, binary=True)\n",
    "    start_time = time()\n",
    "    score = ranking_metrics.ndcg(metrics_eval_y_true, metrics_eval_y_pred, k, None, binary=True)\n",
    "    expired_time = time() - start_time\n",
    "    print(\"metrics_eval took: {expired_time}\".format(expired_time=expired_time))\n",
    "    \n",
    "    # Check equality -----------------------------------------------------------\n",
    "    print(\"equality: {x}\".format(x=isclose(trec_score, score, rel_tol=0.0001)))"
   ]
  },
  {
   "cell_type": "code",
   "execution_count": 6,
   "metadata": {
    "ExecuteTime": {
     "end_time": "2020-06-02T23:00:41.231347Z",
     "start_time": "2020-06-02T23:00:16.156919Z"
    }
   },
   "outputs": [
    {
     "name": "stdout",
     "output_type": "stream",
     "text": [
      "pytrec_eval took: 3.180417060852051\n",
      "metrics_eval took: 0.05454683303833008\n",
      "equality: True\n"
     ]
    }
   ],
   "source": [
    "random.seed(666)\n",
    "\n",
    "query_count = 100000\n",
    "result_count = 100\n",
    "max_relevant_per_query = 100\n",
    "k = 10\n",
    "\n",
    "# trec_eval uses dictionaries\n",
    "trec_eval_y_true = generate_y_true_dict(query_count, max_relevant_per_query)\n",
    "trec_eval_y_pred = generate_y_pred_dict(query_count, result_count)\n",
    "\n",
    "# metrics_eval uses numpy arrays and Numba data structures\n",
    "metrics_eval_y_true = utils.convert_trec_y_true(trec_eval_y_true)\n",
    "metrics_eval_y_pred = utils.convert_trec_y_pred(trec_eval_y_pred)\n",
    "\n",
    "compare_ndcg(trec_eval_y_true, trec_eval_y_pred, metrics_eval_y_true, metrics_eval_y_pred, k)"
   ]
  }
 ],
 "metadata": {
  "kernelspec": {
   "display_name": "Python [conda env:metrics]",
   "language": "python",
   "name": "conda-env-metrics-py"
  },
  "language_info": {
   "codemirror_mode": {
    "name": "ipython",
    "version": 3
   },
   "file_extension": ".py",
   "mimetype": "text/x-python",
   "name": "python",
   "nbconvert_exporter": "python",
   "pygments_lexer": "ipython3",
   "version": "3.8.1"
  },
  "toc": {
   "base_numbering": 1,
   "nav_menu": {},
   "number_sections": true,
   "sideBar": true,
   "skip_h1_title": false,
   "title_cell": "Table of Contents",
   "title_sidebar": "Contents",
   "toc_cell": true,
   "toc_position": {},
   "toc_section_display": true,
   "toc_window_display": false
  }
 },
 "nbformat": 4,
 "nbformat_minor": 4
}
